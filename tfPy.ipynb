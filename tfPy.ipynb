{
  "nbformat": 4,
  "nbformat_minor": 0,
  "metadata": {
    "colab": {
      "provenance": [],
      "authorship_tag": "ABX9TyMrsZmP8R4amZkJS0TO23w7",
      "include_colab_link": true
    },
    "kernelspec": {
      "name": "python3",
      "display_name": "Python 3"
    },
    "language_info": {
      "name": "python"
    }
  },
  "cells": [
    {
      "cell_type": "markdown",
      "metadata": {
        "id": "view-in-github",
        "colab_type": "text"
      },
      "source": [
        "<a href=\"https://colab.research.google.com/github/harry-urek/PythonResources/blob/master1/tfPy.ipynb\" target=\"_parent\"><img src=\"https://colab.research.google.com/assets/colab-badge.svg\" alt=\"Open In Colab\"/></a>"
      ]
    },
    {
      "cell_type": "code",
      "execution_count": 1,
      "metadata": {
        "colab": {
          "base_uri": "https://localhost:8080/"
        },
        "id": "unGjiSrE_y2X",
        "outputId": "f78f09cb-9a14-48c5-c022-ce222d98bd91"
      },
      "outputs": [
        {
          "output_type": "stream",
          "name": "stdout",
          "text": [
            "Colab only includes TensorFlow 2.x; %tensorflow_version has no effect.\n"
          ]
        }
      ],
      "source": [
        "%tensorflow_version 2.x\n"
      ]
    },
    {
      "cell_type": "code",
      "source": [
        "import tensorflow as tf\n",
        "print(tf.version)"
      ],
      "metadata": {
        "colab": {
          "base_uri": "https://localhost:8080/"
        },
        "id": "UWzQG3WaAHvz",
        "outputId": "f249d851-a5ca-477f-e7ad-accbc608cba7"
      },
      "execution_count": 2,
      "outputs": [
        {
          "output_type": "stream",
          "name": "stdout",
          "text": [
            "<module 'tensorflow._api.v2.version' from '/usr/local/lib/python3.10/dist-packages/tensorflow/_api/v2/version/__init__.py'>\n"
          ]
        }
      ]
    },
    {
      "cell_type": "code",
      "source": [
        "import numpy as np\n",
        "rank_0_tensor = tf.constant(4)\n",
        "rank_1_tensor = tf.constant([2.0,3.0, 4.0])\n",
        "rank_2_tensor = tf.constant([[1, 2],\n",
        "                             [3, 4],\n",
        "                             [5, 6]], dtype =tf.float16)"
      ],
      "metadata": {
        "id": "09u6O-TVAU7p"
      },
      "execution_count": 3,
      "outputs": []
    },
    {
      "cell_type": "code",
      "source": [
        "# You can create Tensor objects with the `tf.constant` function:\n",
        "x = tf.constant([[1, 2, 3, 4 ,5]])\n",
        "# You can create Tensor objects only consisting of 1s with the `tf.ones` function:\n",
        "y = tf.ones((1,5))\n",
        "# You can create Tensor objects only consisting of 0s with the `tf.zeros` function:\n",
        "z = tf.zeros((1,5))\n",
        "# You can use the `tf.range()` function to create Tensor objects:\n",
        "q = tf.range(start=1, limit=6, delta=1)"
      ],
      "metadata": {
        "id": "pS3gaaoOK216"
      },
      "execution_count": null,
      "outputs": []
    },
    {
      "cell_type": "code",
      "source": [],
      "metadata": {
        "id": "CTVLQpB5K9g_"
      },
      "execution_count": null,
      "outputs": []
    }
  ]
}